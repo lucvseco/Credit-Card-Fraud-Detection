{
  "nbformat": 4,
  "nbformat_minor": 0,
  "metadata": {
    "colab": {
      "provenance": [],
      "authorship_tag": "ABX9TyOZvCIWPg7wBhWbmjFnEDQD",
      "include_colab_link": true
    },
    "kernelspec": {
      "name": "python3",
      "display_name": "Python 3"
    },
    "language_info": {
      "name": "python"
    }
  },
  "cells": [
    {
      "cell_type": "markdown",
      "metadata": {
        "id": "view-in-github",
        "colab_type": "text"
      },
      "source": [
        "<a href=\"https://colab.research.google.com/github/lucvseco/Credit-Card-Fraud-Detection/blob/main/Credit_card_fraud_detection.ipynb\" target=\"_parent\"><img src=\"https://colab.research.google.com/assets/colab-badge.svg\" alt=\"Open In Colab\"/></a>"
      ]
    },
    {
      "cell_type": "markdown",
      "source": [
        "# Credit Card Fraud Detection\n"
      ],
      "metadata": {
        "id": "F4PE9ZrYlsXp"
      }
    },
    {
      "cell_type": "markdown",
      "source": [
        "## Importing libraries and loading the dataset"
      ],
      "metadata": {
        "id": "LJHlDoxAl-sr"
      }
    },
    {
      "cell_type": "code",
      "execution_count": null,
      "metadata": {
        "id": "Jc9q6JPWfvVU"
      },
      "outputs": [],
      "source": [
        "import pandas as pd\n",
        "import matplotlib.pyplot as plt\n",
        "import numpy as np\n",
        "import random\n",
        "import seaborn as sns"
      ]
    },
    {
      "cell_type": "code",
      "source": [
        "ccf = pd.read_csv(\"creditcard.csv\")"
      ],
      "metadata": {
        "id": "OPhlyK07ge7g"
      },
      "execution_count": null,
      "outputs": []
    },
    {
      "cell_type": "markdown",
      "source": [
        "## Preliminary statistical analysis of data:"
      ],
      "metadata": {
        "id": "FbJvhQ-1mkxJ"
      }
    },
    {
      "cell_type": "markdown",
      "source": [
        "#### Mean, standard deviation, median, maximum and minimum for each database characteristic\n"
      ],
      "metadata": {
        "id": "cRd3cDVzlkhq"
      }
    },
    {
      "cell_type": "code",
      "source": [
        "ccf.describe()"
      ],
      "metadata": {
        "id": "_iGQ60HykOil",
        "colab": {
          "base_uri": "https://localhost:8080/",
          "height": 350
        },
        "outputId": "2a922d67-c6fd-4a53-e576-d96a9b875c4c"
      },
      "execution_count": null,
      "outputs": [
        {
          "output_type": "execute_result",
          "data": {
            "text/plain": [
              "                Time            V1            V2            V3            V4  \\\n",
              "count  284807.000000  2.848070e+05  2.848070e+05  2.848070e+05  2.848070e+05   \n",
              "mean    94813.859575  1.168375e-15  3.416908e-16 -1.379537e-15  2.074095e-15   \n",
              "std     47488.145955  1.958696e+00  1.651309e+00  1.516255e+00  1.415869e+00   \n",
              "min         0.000000 -5.640751e+01 -7.271573e+01 -4.832559e+01 -5.683171e+00   \n",
              "25%     54201.500000 -9.203734e-01 -5.985499e-01 -8.903648e-01 -8.486401e-01   \n",
              "50%     84692.000000  1.810880e-02  6.548556e-02  1.798463e-01 -1.984653e-02   \n",
              "75%    139320.500000  1.315642e+00  8.037239e-01  1.027196e+00  7.433413e-01   \n",
              "max    172792.000000  2.454930e+00  2.205773e+01  9.382558e+00  1.687534e+01   \n",
              "\n",
              "                 V5            V6            V7            V8            V9  \\\n",
              "count  2.848070e+05  2.848070e+05  2.848070e+05  2.848070e+05  2.848070e+05   \n",
              "mean   9.604066e-16  1.487313e-15 -5.556467e-16  1.213481e-16 -2.406331e-15   \n",
              "std    1.380247e+00  1.332271e+00  1.237094e+00  1.194353e+00  1.098632e+00   \n",
              "min   -1.137433e+02 -2.616051e+01 -4.355724e+01 -7.321672e+01 -1.343407e+01   \n",
              "25%   -6.915971e-01 -7.682956e-01 -5.540759e-01 -2.086297e-01 -6.430976e-01   \n",
              "50%   -5.433583e-02 -2.741871e-01  4.010308e-02  2.235804e-02 -5.142873e-02   \n",
              "75%    6.119264e-01  3.985649e-01  5.704361e-01  3.273459e-01  5.971390e-01   \n",
              "max    3.480167e+01  7.330163e+01  1.205895e+02  2.000721e+01  1.559499e+01   \n",
              "\n",
              "       ...           V21           V22           V23           V24  \\\n",
              "count  ...  2.848070e+05  2.848070e+05  2.848070e+05  2.848070e+05   \n",
              "mean   ...  1.654067e-16 -3.568593e-16  2.578648e-16  4.473266e-15   \n",
              "std    ...  7.345240e-01  7.257016e-01  6.244603e-01  6.056471e-01   \n",
              "min    ... -3.483038e+01 -1.093314e+01 -4.480774e+01 -2.836627e+00   \n",
              "25%    ... -2.283949e-01 -5.423504e-01 -1.618463e-01 -3.545861e-01   \n",
              "50%    ... -2.945017e-02  6.781943e-03 -1.119293e-02  4.097606e-02   \n",
              "75%    ...  1.863772e-01  5.285536e-01  1.476421e-01  4.395266e-01   \n",
              "max    ...  2.720284e+01  1.050309e+01  2.252841e+01  4.584549e+00   \n",
              "\n",
              "                V25           V26           V27           V28         Amount  \\\n",
              "count  2.848070e+05  2.848070e+05  2.848070e+05  2.848070e+05  284807.000000   \n",
              "mean   5.340915e-16  1.683437e-15 -3.660091e-16 -1.227390e-16      88.349619   \n",
              "std    5.212781e-01  4.822270e-01  4.036325e-01  3.300833e-01     250.120109   \n",
              "min   -1.029540e+01 -2.604551e+00 -2.256568e+01 -1.543008e+01       0.000000   \n",
              "25%   -3.171451e-01 -3.269839e-01 -7.083953e-02 -5.295979e-02       5.600000   \n",
              "50%    1.659350e-02 -5.213911e-02  1.342146e-03  1.124383e-02      22.000000   \n",
              "75%    3.507156e-01  2.409522e-01  9.104512e-02  7.827995e-02      77.165000   \n",
              "max    7.519589e+00  3.517346e+00  3.161220e+01  3.384781e+01   25691.160000   \n",
              "\n",
              "               Class  \n",
              "count  284807.000000  \n",
              "mean        0.001727  \n",
              "std         0.041527  \n",
              "min         0.000000  \n",
              "25%         0.000000  \n",
              "50%         0.000000  \n",
              "75%         0.000000  \n",
              "max         1.000000  \n",
              "\n",
              "[8 rows x 31 columns]"
            ],
            "text/html": [
              "\n",
              "  <div id=\"df-328909ad-eb64-4905-a6f8-43fee14c0585\" class=\"colab-df-container\">\n",
              "    <div>\n",
              "<style scoped>\n",
              "    .dataframe tbody tr th:only-of-type {\n",
              "        vertical-align: middle;\n",
              "    }\n",
              "\n",
              "    .dataframe tbody tr th {\n",
              "        vertical-align: top;\n",
              "    }\n",
              "\n",
              "    .dataframe thead th {\n",
              "        text-align: right;\n",
              "    }\n",
              "</style>\n",
              "<table border=\"1\" class=\"dataframe\">\n",
              "  <thead>\n",
              "    <tr style=\"text-align: right;\">\n",
              "      <th></th>\n",
              "      <th>Time</th>\n",
              "      <th>V1</th>\n",
              "      <th>V2</th>\n",
              "      <th>V3</th>\n",
              "      <th>V4</th>\n",
              "      <th>V5</th>\n",
              "      <th>V6</th>\n",
              "      <th>V7</th>\n",
              "      <th>V8</th>\n",
              "      <th>V9</th>\n",
              "      <th>...</th>\n",
              "      <th>V21</th>\n",
              "      <th>V22</th>\n",
              "      <th>V23</th>\n",
              "      <th>V24</th>\n",
              "      <th>V25</th>\n",
              "      <th>V26</th>\n",
              "      <th>V27</th>\n",
              "      <th>V28</th>\n",
              "      <th>Amount</th>\n",
              "      <th>Class</th>\n",
              "    </tr>\n",
              "  </thead>\n",
              "  <tbody>\n",
              "    <tr>\n",
              "      <th>count</th>\n",
              "      <td>284807.000000</td>\n",
              "      <td>2.848070e+05</td>\n",
              "      <td>2.848070e+05</td>\n",
              "      <td>2.848070e+05</td>\n",
              "      <td>2.848070e+05</td>\n",
              "      <td>2.848070e+05</td>\n",
              "      <td>2.848070e+05</td>\n",
              "      <td>2.848070e+05</td>\n",
              "      <td>2.848070e+05</td>\n",
              "      <td>2.848070e+05</td>\n",
              "      <td>...</td>\n",
              "      <td>2.848070e+05</td>\n",
              "      <td>2.848070e+05</td>\n",
              "      <td>2.848070e+05</td>\n",
              "      <td>2.848070e+05</td>\n",
              "      <td>2.848070e+05</td>\n",
              "      <td>2.848070e+05</td>\n",
              "      <td>2.848070e+05</td>\n",
              "      <td>2.848070e+05</td>\n",
              "      <td>284807.000000</td>\n",
              "      <td>284807.000000</td>\n",
              "    </tr>\n",
              "    <tr>\n",
              "      <th>mean</th>\n",
              "      <td>94813.859575</td>\n",
              "      <td>1.168375e-15</td>\n",
              "      <td>3.416908e-16</td>\n",
              "      <td>-1.379537e-15</td>\n",
              "      <td>2.074095e-15</td>\n",
              "      <td>9.604066e-16</td>\n",
              "      <td>1.487313e-15</td>\n",
              "      <td>-5.556467e-16</td>\n",
              "      <td>1.213481e-16</td>\n",
              "      <td>-2.406331e-15</td>\n",
              "      <td>...</td>\n",
              "      <td>1.654067e-16</td>\n",
              "      <td>-3.568593e-16</td>\n",
              "      <td>2.578648e-16</td>\n",
              "      <td>4.473266e-15</td>\n",
              "      <td>5.340915e-16</td>\n",
              "      <td>1.683437e-15</td>\n",
              "      <td>-3.660091e-16</td>\n",
              "      <td>-1.227390e-16</td>\n",
              "      <td>88.349619</td>\n",
              "      <td>0.001727</td>\n",
              "    </tr>\n",
              "    <tr>\n",
              "      <th>std</th>\n",
              "      <td>47488.145955</td>\n",
              "      <td>1.958696e+00</td>\n",
              "      <td>1.651309e+00</td>\n",
              "      <td>1.516255e+00</td>\n",
              "      <td>1.415869e+00</td>\n",
              "      <td>1.380247e+00</td>\n",
              "      <td>1.332271e+00</td>\n",
              "      <td>1.237094e+00</td>\n",
              "      <td>1.194353e+00</td>\n",
              "      <td>1.098632e+00</td>\n",
              "      <td>...</td>\n",
              "      <td>7.345240e-01</td>\n",
              "      <td>7.257016e-01</td>\n",
              "      <td>6.244603e-01</td>\n",
              "      <td>6.056471e-01</td>\n",
              "      <td>5.212781e-01</td>\n",
              "      <td>4.822270e-01</td>\n",
              "      <td>4.036325e-01</td>\n",
              "      <td>3.300833e-01</td>\n",
              "      <td>250.120109</td>\n",
              "      <td>0.041527</td>\n",
              "    </tr>\n",
              "    <tr>\n",
              "      <th>min</th>\n",
              "      <td>0.000000</td>\n",
              "      <td>-5.640751e+01</td>\n",
              "      <td>-7.271573e+01</td>\n",
              "      <td>-4.832559e+01</td>\n",
              "      <td>-5.683171e+00</td>\n",
              "      <td>-1.137433e+02</td>\n",
              "      <td>-2.616051e+01</td>\n",
              "      <td>-4.355724e+01</td>\n",
              "      <td>-7.321672e+01</td>\n",
              "      <td>-1.343407e+01</td>\n",
              "      <td>...</td>\n",
              "      <td>-3.483038e+01</td>\n",
              "      <td>-1.093314e+01</td>\n",
              "      <td>-4.480774e+01</td>\n",
              "      <td>-2.836627e+00</td>\n",
              "      <td>-1.029540e+01</td>\n",
              "      <td>-2.604551e+00</td>\n",
              "      <td>-2.256568e+01</td>\n",
              "      <td>-1.543008e+01</td>\n",
              "      <td>0.000000</td>\n",
              "      <td>0.000000</td>\n",
              "    </tr>\n",
              "    <tr>\n",
              "      <th>25%</th>\n",
              "      <td>54201.500000</td>\n",
              "      <td>-9.203734e-01</td>\n",
              "      <td>-5.985499e-01</td>\n",
              "      <td>-8.903648e-01</td>\n",
              "      <td>-8.486401e-01</td>\n",
              "      <td>-6.915971e-01</td>\n",
              "      <td>-7.682956e-01</td>\n",
              "      <td>-5.540759e-01</td>\n",
              "      <td>-2.086297e-01</td>\n",
              "      <td>-6.430976e-01</td>\n",
              "      <td>...</td>\n",
              "      <td>-2.283949e-01</td>\n",
              "      <td>-5.423504e-01</td>\n",
              "      <td>-1.618463e-01</td>\n",
              "      <td>-3.545861e-01</td>\n",
              "      <td>-3.171451e-01</td>\n",
              "      <td>-3.269839e-01</td>\n",
              "      <td>-7.083953e-02</td>\n",
              "      <td>-5.295979e-02</td>\n",
              "      <td>5.600000</td>\n",
              "      <td>0.000000</td>\n",
              "    </tr>\n",
              "    <tr>\n",
              "      <th>50%</th>\n",
              "      <td>84692.000000</td>\n",
              "      <td>1.810880e-02</td>\n",
              "      <td>6.548556e-02</td>\n",
              "      <td>1.798463e-01</td>\n",
              "      <td>-1.984653e-02</td>\n",
              "      <td>-5.433583e-02</td>\n",
              "      <td>-2.741871e-01</td>\n",
              "      <td>4.010308e-02</td>\n",
              "      <td>2.235804e-02</td>\n",
              "      <td>-5.142873e-02</td>\n",
              "      <td>...</td>\n",
              "      <td>-2.945017e-02</td>\n",
              "      <td>6.781943e-03</td>\n",
              "      <td>-1.119293e-02</td>\n",
              "      <td>4.097606e-02</td>\n",
              "      <td>1.659350e-02</td>\n",
              "      <td>-5.213911e-02</td>\n",
              "      <td>1.342146e-03</td>\n",
              "      <td>1.124383e-02</td>\n",
              "      <td>22.000000</td>\n",
              "      <td>0.000000</td>\n",
              "    </tr>\n",
              "    <tr>\n",
              "      <th>75%</th>\n",
              "      <td>139320.500000</td>\n",
              "      <td>1.315642e+00</td>\n",
              "      <td>8.037239e-01</td>\n",
              "      <td>1.027196e+00</td>\n",
              "      <td>7.433413e-01</td>\n",
              "      <td>6.119264e-01</td>\n",
              "      <td>3.985649e-01</td>\n",
              "      <td>5.704361e-01</td>\n",
              "      <td>3.273459e-01</td>\n",
              "      <td>5.971390e-01</td>\n",
              "      <td>...</td>\n",
              "      <td>1.863772e-01</td>\n",
              "      <td>5.285536e-01</td>\n",
              "      <td>1.476421e-01</td>\n",
              "      <td>4.395266e-01</td>\n",
              "      <td>3.507156e-01</td>\n",
              "      <td>2.409522e-01</td>\n",
              "      <td>9.104512e-02</td>\n",
              "      <td>7.827995e-02</td>\n",
              "      <td>77.165000</td>\n",
              "      <td>0.000000</td>\n",
              "    </tr>\n",
              "    <tr>\n",
              "      <th>max</th>\n",
              "      <td>172792.000000</td>\n",
              "      <td>2.454930e+00</td>\n",
              "      <td>2.205773e+01</td>\n",
              "      <td>9.382558e+00</td>\n",
              "      <td>1.687534e+01</td>\n",
              "      <td>3.480167e+01</td>\n",
              "      <td>7.330163e+01</td>\n",
              "      <td>1.205895e+02</td>\n",
              "      <td>2.000721e+01</td>\n",
              "      <td>1.559499e+01</td>\n",
              "      <td>...</td>\n",
              "      <td>2.720284e+01</td>\n",
              "      <td>1.050309e+01</td>\n",
              "      <td>2.252841e+01</td>\n",
              "      <td>4.584549e+00</td>\n",
              "      <td>7.519589e+00</td>\n",
              "      <td>3.517346e+00</td>\n",
              "      <td>3.161220e+01</td>\n",
              "      <td>3.384781e+01</td>\n",
              "      <td>25691.160000</td>\n",
              "      <td>1.000000</td>\n",
              "    </tr>\n",
              "  </tbody>\n",
              "</table>\n",
              "<p>8 rows × 31 columns</p>\n",
              "</div>\n",
              "    <div class=\"colab-df-buttons\">\n",
              "\n",
              "  <div class=\"colab-df-container\">\n",
              "    <button class=\"colab-df-convert\" onclick=\"convertToInteractive('df-328909ad-eb64-4905-a6f8-43fee14c0585')\"\n",
              "            title=\"Convert this dataframe to an interactive table.\"\n",
              "            style=\"display:none;\">\n",
              "\n",
              "  <svg xmlns=\"http://www.w3.org/2000/svg\" height=\"24px\" viewBox=\"0 -960 960 960\">\n",
              "    <path d=\"M120-120v-720h720v720H120Zm60-500h600v-160H180v160Zm220 220h160v-160H400v160Zm0 220h160v-160H400v160ZM180-400h160v-160H180v160Zm440 0h160v-160H620v160ZM180-180h160v-160H180v160Zm440 0h160v-160H620v160Z\"/>\n",
              "  </svg>\n",
              "    </button>\n",
              "\n",
              "  <style>\n",
              "    .colab-df-container {\n",
              "      display:flex;\n",
              "      gap: 12px;\n",
              "    }\n",
              "\n",
              "    .colab-df-convert {\n",
              "      background-color: #E8F0FE;\n",
              "      border: none;\n",
              "      border-radius: 50%;\n",
              "      cursor: pointer;\n",
              "      display: none;\n",
              "      fill: #1967D2;\n",
              "      height: 32px;\n",
              "      padding: 0 0 0 0;\n",
              "      width: 32px;\n",
              "    }\n",
              "\n",
              "    .colab-df-convert:hover {\n",
              "      background-color: #E2EBFA;\n",
              "      box-shadow: 0px 1px 2px rgba(60, 64, 67, 0.3), 0px 1px 3px 1px rgba(60, 64, 67, 0.15);\n",
              "      fill: #174EA6;\n",
              "    }\n",
              "\n",
              "    .colab-df-buttons div {\n",
              "      margin-bottom: 4px;\n",
              "    }\n",
              "\n",
              "    [theme=dark] .colab-df-convert {\n",
              "      background-color: #3B4455;\n",
              "      fill: #D2E3FC;\n",
              "    }\n",
              "\n",
              "    [theme=dark] .colab-df-convert:hover {\n",
              "      background-color: #434B5C;\n",
              "      box-shadow: 0px 1px 3px 1px rgba(0, 0, 0, 0.15);\n",
              "      filter: drop-shadow(0px 1px 2px rgba(0, 0, 0, 0.3));\n",
              "      fill: #FFFFFF;\n",
              "    }\n",
              "  </style>\n",
              "\n",
              "    <script>\n",
              "      const buttonEl =\n",
              "        document.querySelector('#df-328909ad-eb64-4905-a6f8-43fee14c0585 button.colab-df-convert');\n",
              "      buttonEl.style.display =\n",
              "        google.colab.kernel.accessAllowed ? 'block' : 'none';\n",
              "\n",
              "      async function convertToInteractive(key) {\n",
              "        const element = document.querySelector('#df-328909ad-eb64-4905-a6f8-43fee14c0585');\n",
              "        const dataTable =\n",
              "          await google.colab.kernel.invokeFunction('convertToInteractive',\n",
              "                                                    [key], {});\n",
              "        if (!dataTable) return;\n",
              "\n",
              "        const docLinkHtml = 'Like what you see? Visit the ' +\n",
              "          '<a target=\"_blank\" href=https://colab.research.google.com/notebooks/data_table.ipynb>data table notebook</a>'\n",
              "          + ' to learn more about interactive tables.';\n",
              "        element.innerHTML = '';\n",
              "        dataTable['output_type'] = 'display_data';\n",
              "        await google.colab.output.renderOutput(dataTable, element);\n",
              "        const docLink = document.createElement('div');\n",
              "        docLink.innerHTML = docLinkHtml;\n",
              "        element.appendChild(docLink);\n",
              "      }\n",
              "    </script>\n",
              "  </div>\n",
              "\n",
              "\n",
              "<div id=\"df-ff0acf03-551e-4040-93ef-795fc1d62cd0\">\n",
              "  <button class=\"colab-df-quickchart\" onclick=\"quickchart('df-ff0acf03-551e-4040-93ef-795fc1d62cd0')\"\n",
              "            title=\"Suggest charts.\"\n",
              "            style=\"display:none;\">\n",
              "\n",
              "<svg xmlns=\"http://www.w3.org/2000/svg\" height=\"24px\"viewBox=\"0 0 24 24\"\n",
              "     width=\"24px\">\n",
              "    <g>\n",
              "        <path d=\"M19 3H5c-1.1 0-2 .9-2 2v14c0 1.1.9 2 2 2h14c1.1 0 2-.9 2-2V5c0-1.1-.9-2-2-2zM9 17H7v-7h2v7zm4 0h-2V7h2v10zm4 0h-2v-4h2v4z\"/>\n",
              "    </g>\n",
              "</svg>\n",
              "  </button>\n",
              "\n",
              "<style>\n",
              "  .colab-df-quickchart {\n",
              "      --bg-color: #E8F0FE;\n",
              "      --fill-color: #1967D2;\n",
              "      --hover-bg-color: #E2EBFA;\n",
              "      --hover-fill-color: #174EA6;\n",
              "      --disabled-fill-color: #AAA;\n",
              "      --disabled-bg-color: #DDD;\n",
              "  }\n",
              "\n",
              "  [theme=dark] .colab-df-quickchart {\n",
              "      --bg-color: #3B4455;\n",
              "      --fill-color: #D2E3FC;\n",
              "      --hover-bg-color: #434B5C;\n",
              "      --hover-fill-color: #FFFFFF;\n",
              "      --disabled-bg-color: #3B4455;\n",
              "      --disabled-fill-color: #666;\n",
              "  }\n",
              "\n",
              "  .colab-df-quickchart {\n",
              "    background-color: var(--bg-color);\n",
              "    border: none;\n",
              "    border-radius: 50%;\n",
              "    cursor: pointer;\n",
              "    display: none;\n",
              "    fill: var(--fill-color);\n",
              "    height: 32px;\n",
              "    padding: 0;\n",
              "    width: 32px;\n",
              "  }\n",
              "\n",
              "  .colab-df-quickchart:hover {\n",
              "    background-color: var(--hover-bg-color);\n",
              "    box-shadow: 0 1px 2px rgba(60, 64, 67, 0.3), 0 1px 3px 1px rgba(60, 64, 67, 0.15);\n",
              "    fill: var(--button-hover-fill-color);\n",
              "  }\n",
              "\n",
              "  .colab-df-quickchart-complete:disabled,\n",
              "  .colab-df-quickchart-complete:disabled:hover {\n",
              "    background-color: var(--disabled-bg-color);\n",
              "    fill: var(--disabled-fill-color);\n",
              "    box-shadow: none;\n",
              "  }\n",
              "\n",
              "  .colab-df-spinner {\n",
              "    border: 2px solid var(--fill-color);\n",
              "    border-color: transparent;\n",
              "    border-bottom-color: var(--fill-color);\n",
              "    animation:\n",
              "      spin 1s steps(1) infinite;\n",
              "  }\n",
              "\n",
              "  @keyframes spin {\n",
              "    0% {\n",
              "      border-color: transparent;\n",
              "      border-bottom-color: var(--fill-color);\n",
              "      border-left-color: var(--fill-color);\n",
              "    }\n",
              "    20% {\n",
              "      border-color: transparent;\n",
              "      border-left-color: var(--fill-color);\n",
              "      border-top-color: var(--fill-color);\n",
              "    }\n",
              "    30% {\n",
              "      border-color: transparent;\n",
              "      border-left-color: var(--fill-color);\n",
              "      border-top-color: var(--fill-color);\n",
              "      border-right-color: var(--fill-color);\n",
              "    }\n",
              "    40% {\n",
              "      border-color: transparent;\n",
              "      border-right-color: var(--fill-color);\n",
              "      border-top-color: var(--fill-color);\n",
              "    }\n",
              "    60% {\n",
              "      border-color: transparent;\n",
              "      border-right-color: var(--fill-color);\n",
              "    }\n",
              "    80% {\n",
              "      border-color: transparent;\n",
              "      border-right-color: var(--fill-color);\n",
              "      border-bottom-color: var(--fill-color);\n",
              "    }\n",
              "    90% {\n",
              "      border-color: transparent;\n",
              "      border-bottom-color: var(--fill-color);\n",
              "    }\n",
              "  }\n",
              "</style>\n",
              "\n",
              "  <script>\n",
              "    async function quickchart(key) {\n",
              "      const quickchartButtonEl =\n",
              "        document.querySelector('#' + key + ' button');\n",
              "      quickchartButtonEl.disabled = true;  // To prevent multiple clicks.\n",
              "      quickchartButtonEl.classList.add('colab-df-spinner');\n",
              "      try {\n",
              "        const charts = await google.colab.kernel.invokeFunction(\n",
              "            'suggestCharts', [key], {});\n",
              "      } catch (error) {\n",
              "        console.error('Error during call to suggestCharts:', error);\n",
              "      }\n",
              "      quickchartButtonEl.classList.remove('colab-df-spinner');\n",
              "      quickchartButtonEl.classList.add('colab-df-quickchart-complete');\n",
              "    }\n",
              "    (() => {\n",
              "      let quickchartButtonEl =\n",
              "        document.querySelector('#df-ff0acf03-551e-4040-93ef-795fc1d62cd0 button');\n",
              "      quickchartButtonEl.style.display =\n",
              "        google.colab.kernel.accessAllowed ? 'block' : 'none';\n",
              "    })();\n",
              "  </script>\n",
              "</div>\n",
              "    </div>\n",
              "  </div>\n"
            ]
          },
          "metadata": {},
          "execution_count": 57
        }
      ]
    },
    {
      "cell_type": "markdown",
      "source": [
        "#### Verification of data integrity and whether or not there is missing or incomplete data"
      ],
      "metadata": {
        "id": "X8IB5PBymFMr"
      }
    },
    {
      "cell_type": "code",
      "source": [
        "ccf.isna().sum()"
      ],
      "metadata": {
        "id": "OWdhY9olmWET",
        "colab": {
          "base_uri": "https://localhost:8080/"
        },
        "outputId": "2714cce1-1c40-4a16-9d34-f1e241fe80e5"
      },
      "execution_count": null,
      "outputs": [
        {
          "output_type": "execute_result",
          "data": {
            "text/plain": [
              "Time      0\n",
              "V1        0\n",
              "V2        0\n",
              "V3        0\n",
              "V4        0\n",
              "V5        0\n",
              "V6        0\n",
              "V7        0\n",
              "V8        0\n",
              "V9        0\n",
              "V10       0\n",
              "V11       0\n",
              "V12       0\n",
              "V13       0\n",
              "V14       0\n",
              "V15       0\n",
              "V16       0\n",
              "V17       0\n",
              "V18       0\n",
              "V19       0\n",
              "V20       0\n",
              "V21       0\n",
              "V22       0\n",
              "V23       0\n",
              "V24       0\n",
              "V25       0\n",
              "V26       0\n",
              "V27       0\n",
              "V28       0\n",
              "Amount    0\n",
              "Class     0\n",
              "dtype: int64"
            ]
          },
          "metadata": {},
          "execution_count": 58
        }
      ]
    },
    {
      "cell_type": "markdown",
      "source": [
        "## Define data preprocessing operations"
      ],
      "metadata": {
        "id": "rTPlYXGMm5gh"
      }
    },
    {
      "cell_type": "markdown",
      "source": [
        "#### Mean removal, normalization, scaling, outlier removal, incomplete data handling, etc."
      ],
      "metadata": {
        "id": "jU6MmkPenDvS"
      }
    },
    {
      "cell_type": "markdown",
      "source": [
        "##### In this case, the dataset \"ccf\" has two classes: 1 and 0. The samples with \"Fraud\" was classifieds as 1 and the samples with \"No Fraud\" was classifieds as 0. Very few transactions are actually fraudulent (less than 1%). The data set is highly skewed, consisting of 492 frauds in a total of 284,807 observations. This resulted in only 0.172% fraud cases. This skewed set is justified by the low number of fraudulent transactions\n",
        "##### The data preprocessing ideal for this case is apply a method named \"undersampling\" for reduce the numbers of samples with \"No Fraud\"."
      ],
      "metadata": {
        "id": "lmK5sjwBnKfJ"
      }
    },
    {
      "cell_type": "code",
      "source": [
        "X = ccf.iloc[:, 1:]\n",
        "y = ccf[\"Class\"]"
      ],
      "metadata": {
        "id": "F0JyqRWnjyeU"
      },
      "execution_count": null,
      "outputs": []
    },
    {
      "cell_type": "code",
      "source": [
        "contagem_classes =  X['Class'].value_counts()\n",
        "plt.figure(figsize=(6, 4))\n",
        "sns.barplot(x=contagem_classes.index, y=contagem_classes.values)\n",
        "plt.title('Classes Distribution')\n",
        "plt.xlabel('Class')\n",
        "plt.ylabel('Count')\n",
        "plt.show()"
      ],
      "metadata": {
        "colab": {
          "base_uri": "https://localhost:8080/",
          "height": 410
        },
        "id": "LC7US_TQElw9",
        "outputId": "34deba9f-8059-4539-b67c-8f2944718867"
      },
      "execution_count": null,
      "outputs": [
        {
          "output_type": "display_data",
          "data": {
            "text/plain": [
              "<Figure size 600x400 with 1 Axes>"
            ],
            "image/png": "[encoded data removed]"
          },
          "metadata": {}
        }
      ]
    },
    {
      "cell_type": "code",
      "source": [
        "X = ccf.iloc[:, 1:-1]\n",
        "y = ccf[\"Class\"]"
      ],
      "metadata": {
        "id": "6rKQmPy8KcGg"
      },
      "execution_count": null,
      "outputs": []
    },
    {
      "cell_type": "markdown",
      "source": [
        "## Undersampling in majority class\n"
      ],
      "metadata": {
        "id": "fA36PeiS98wA"
      }
    },
    {
      "cell_type": "code",
      "source": [
        "#separando o dataset em dataset de fraudes e não fraudes\n",
        "X_majority = X[y == 0]\n",
        "X_minority = X[y == 1]\n",
        "\n",
        "#fazendo undersampling na classe 0, que não tem fraude\n",
        "sizeX_minority = len(X_minority)\n",
        "random_indices = random.sample(range(len(X_majority)), sizeX_minority)\n",
        "X_majority_undersampled = X_majority.iloc[random_indices]"
      ],
      "metadata": {
        "id": "7mKRZxnB9hA-"
      },
      "execution_count": null,
      "outputs": []
    },
    {
      "cell_type": "code",
      "source": [
        "#concatenando a classe com undersampling\n",
        "X = pd.concat([X_majority_undersampled, X_minority])\n",
        "Y = pd.concat([pd.Series([0] * len(X_majority_undersampled)), pd.Series([1] * len(X_minority))])"
      ],
      "metadata": {
        "id": "wEjyXbMhCVVo"
      },
      "execution_count": null,
      "outputs": []
    },
    {
      "cell_type": "markdown",
      "source": [
        "## Defening models"
      ],
      "metadata": {
        "id": "LCWcFN1j-FeS"
      }
    },
    {
      "cell_type": "code",
      "source": [
        "#definição do tamanho dos modelos\n",
        "test_size = 0.2\n",
        "num_samples = len(X)\n",
        "\n",
        "#calculando o tamanho de cada modelo\n",
        "num_test = int(test_size * num_samples)\n",
        "num_train = num_samples - num_test\n",
        "#divisão do modelo\n",
        "X_train, Y_train = X[:num_train], Y[:num_train]\n",
        "X_test, Y_test = X[num_train:num_train + num_test], Y[num_train:num_train + num_test]"
      ],
      "metadata": {
        "id": "Ae-ZK00p95zb"
      },
      "execution_count": null,
      "outputs": []
    },
    {
      "cell_type": "markdown",
      "source": [
        "## Normalize X_train and X_test"
      ],
      "metadata": {
        "id": "E1B7NQr2-QPT"
      }
    },
    {
      "cell_type": "code",
      "source": [
        "X_train = (X_train - X_train.mean(axis=0)) / X_train.std(axis=0)\n",
        "X_test = (X_test - X_train.mean(axis=0)) / X_train.std(axis=0)\n",
        "X_train = X_train.to_numpy()\n",
        "Y_train = Y_train.to_numpy()\n",
        "X_test = X_test.to_numpy()\n",
        "Y_test = Y_test.to_numpy()"
      ],
      "metadata": {
        "id": "iA28TipEvhGB"
      },
      "execution_count": null,
      "outputs": []
    },
    {
      "cell_type": "markdown",
      "source": [
        "## Activation function (ReLu and Sigmoid)"
      ],
      "metadata": {
        "id": "2vpVPn-F-aAM"
      }
    },
    {
      "cell_type": "code",
      "source": [
        "def relu(x):\n",
        "    return np.maximum(0, x)\n",
        "\n",
        "def sigmoid(x):\n",
        "    return 1 / (1 + np.exp(-x))"
      ],
      "metadata": {
        "id": "vM5j5o9o-wE6"
      },
      "execution_count": null,
      "outputs": []
    },
    {
      "cell_type": "markdown",
      "source": [
        "## Glorot and He\n"
      ],
      "metadata": {
        "id": "6uCgsiWp_YMC"
      }
    },
    {
      "cell_type": "code",
      "source": [
        "np.random.seed(0)\n",
        "input_size = 29\n",
        "hidden_sizes = [32, 16, 8, 4]\n",
        "output_size = 1\n",
        "\n",
        "#estratégia de Xavier/Glorot\n",
        "def initialize_weights_xavier(input_size, output_size):\n",
        "    return np.random.randn(input_size, output_size) / np.sqrt(input_size)\n",
        "\n",
        "#estratégia de He (para ReLU)\n",
        "def initialize_weights_he(input_size, output_size):\n",
        "    return np.random.randn(input_size, output_size) * np.sqrt(2 / input_size)\n",
        "\n",
        "hidden_sizes = [32, 16, 8, 4]\n",
        "output_size = 1\n",
        "weights = []\n",
        "biases = []\n",
        "input_size = 29\n",
        "\n",
        "# Inicialização dos pesos e bias para as camadas ocultas\n",
        "for size in hidden_sizes:\n",
        "    weights.append(initialize_weights_he(input_size, size))\n",
        "    biases.append(np.zeros((1, size)))\n",
        "    input_size = size\n",
        "\n",
        "# Inicialização dos pesos e bias para a camada de saída\n",
        "weights.append(initialize_weights_xavier(input_size, output_size))\n",
        "biases.append(np.zeros((1, output_size)))"
      ],
      "metadata": {
        "id": "LSnK-7VD-2t1"
      },
      "execution_count": null,
      "outputs": []
    },
    {
      "cell_type": "markdown",
      "source": [
        "## Optmization, function costs and bias update"
      ],
      "metadata": {
        "id": "1VbyrGl7_KGG"
      }
    },
    {
      "cell_type": "code",
      "source": [
        "#Forward pass\n",
        "def forward(input_data):\n",
        "    activations = []\n",
        "    for i in range(len(weights)):\n",
        "        input_data = np.dot(input_data, weights[i]) + biases[i]\n",
        "        if i < len(weights) - 1:\n",
        "            input_data = relu(input_data)\n",
        "        else:\n",
        "            input_data = sigmoid(input_data)\n",
        "        activations.append(input_data)\n",
        "    return activations\n",
        "\n",
        "learning_rate = 0.0002\n",
        "epochs = 100\n",
        "train_losses = []\n",
        "val_losses = []\n",
        "train_accuracies = []\n",
        "val_accuracies = []\n",
        "\n",
        "for epoch in range(epochs):\n",
        "    total_loss = 0\n",
        "    correct_train = 0\n",
        "    correct_val = 0\n",
        "\n",
        "    for i in range(len(X_train)):\n",
        "        x = X_train[i]\n",
        "        y = Y_train[i]\n",
        "\n",
        "        #forward\n",
        "        activations = forward(x)\n",
        "\n",
        "        # Cálculo do erro\n",
        "        error = y - activations[-1]\n",
        "\n",
        "        # Cálculo da função de custo\n",
        "        loss = - (y * np.log(activations[-1]) + (1 - y) * np.log(1 - activations[-1]))\n",
        "        total_loss += loss\n",
        "\n",
        "        #backpropagation\n",
        "        delta = error * (activations[-1] * (1 - activations[-1]))\n",
        "        for j in range(len(weights) - 1, -1, -1):\n",
        "            activations[j] = np.clip(activations[j], 1e-15, 1 - 1e-15)\n",
        "            if j == len(weights) - 1:\n",
        "                delta_weights = learning_rate * activations[j - 1].reshape(1, -1).T @ delta\n",
        "            else:\n",
        "                delta_weights = learning_rate * activations[j - 1].reshape(1, -1).T @ delta\n",
        "            delta_biases = learning_rate * delta\n",
        "            delta = np.dot(delta, weights[j].T)\n",
        "            weights[j] += delta_weights\n",
        "            biases[j] += delta_biases\n",
        "\n",
        "        #acurácia de treinamento\n",
        "        if activations[-1] >= 0.5 and y == 1:\n",
        "            correct_train += 1\n",
        "        elif activations[-1] < 0.5 and y == 0:\n",
        "            correct_train += 1\n",
        "\n",
        "    #média do erro de treinamento na época atual\n",
        "    mean_epoch_loss_train = total_loss / len(X_train)\n",
        "    train_losses.append(mean_epoch_loss_train)\n",
        "    train_accuracy = correct_train / len(X_train)\n",
        "    train_accuracies.append(train_accuracy)\n",
        "\n",
        "    #erro de validação\n",
        "    total_loss_val = 0\n",
        "    for i in range(len(X_test)):\n",
        "        x = X_test[i]\n",
        "        y = Y_test[i]\n",
        "        epsilon = 1e-15  #constante para evitar divisão por zero\n",
        "        loss = - (y * np.log(activations[-1] + epsilon) + (1 - y) * np.log(1 - activations[-1] + epsilon))\n",
        "        activations = forward(x)\n",
        "        total_loss_val += loss\n",
        "\n",
        "        #acurácia de validação\n",
        "        if activations[-1] >= 0.5 and y == 1:\n",
        "            correct_val += 1\n",
        "        elif activations[-1] < 0.5 and y == 0:\n",
        "            correct_val += 1\n",
        "\n",
        "    #média do erro de validação na época atual\n",
        "    mean_epoch_loss_val = total_loss_val / len(X_test)\n",
        "    val_losses.append(mean_epoch_loss_val)\n",
        "    val_accuracy = correct_val / len(X_test)\n",
        "    val_accuracies.append(val_accuracy)\n",
        "\n",
        "    if (epoch + 1) % 10 == 0:\n",
        "        print(f\"Epoch {epoch + 1}/{epochs}, Loss (Treinamento): {mean_epoch_loss_train}, Loss (Validação): {mean_epoch_loss_val}\")"
      ],
      "metadata": {
        "colab": {
          "base_uri": "https://localhost:8080/"
        },
        "id": "M7prVcGI-8FL",
        "outputId": "7cefb1d0-94ee-40c5-c0c4-d23098cd8f38"
      },
      "execution_count": null,
      "outputs": [
        {
          "output_type": "stream",
          "name": "stdout",
          "text": [
            "Epoch 10/100, Loss (Treinamento): [[0.63674486]], Loss (Validação): [[0.22001097]]\n",
            "Epoch 20/100, Loss (Treinamento): [[0.54590908]], Loss (Validação): [[0.12119433]]\n",
            "Epoch 30/100, Loss (Treinamento): [[0.46432471]], Loss (Validação): [[0.12078469]]\n",
            "Epoch 40/100, Loss (Treinamento): [[0.41763165]], Loss (Validação): [[0.13366406]]\n",
            "Epoch 50/100, Loss (Treinamento): [[0.39361703]], Loss (Validação): [[0.13833677]]\n",
            "Epoch 60/100, Loss (Treinamento): [[0.38221766]], Loss (Validação): [[0.13919867]]\n",
            "Epoch 70/100, Loss (Treinamento): [[0.37891494]], Loss (Validação): [[0.14077237]]\n",
            "Epoch 80/100, Loss (Treinamento): [[0.38191715]], Loss (Validação): [[0.14626622]]\n",
            "Epoch 90/100, Loss (Treinamento): [[0.38799266]], Loss (Validação): [[0.15980574]]\n",
            "Epoch 100/100, Loss (Treinamento): [[0.39497353]], Loss (Validação): [[0.17430957]]\n"
          ]
        }
      ]
    },
    {
      "cell_type": "markdown",
      "source": [
        "## Grafics"
      ],
      "metadata": {
        "id": "1DYWYZnH_tks"
      }
    },
    {
      "cell_type": "code",
      "source": [
        "train_losses = np.array(train_losses).flatten()\n",
        "val_losses = np.array(val_losses).flatten()\n",
        "plt.figure(figsize=(12, 4))\n",
        "plt.subplot(1, 2, 1)\n",
        "plt.plot(range(epochs), train_losses, label='Treinamento')\n",
        "plt.plot(range(epochs), val_losses, label='Validação')\n",
        "plt.xlabel('Época')\n",
        "plt.ylabel('Erro (Função de Custo)')\n",
        "plt.legend()\n",
        "plt.title('Erro durante o Treinamento da Rede Neural')\n",
        "plt.show()"
      ],
      "metadata": {
        "colab": {
          "base_uri": "https://localhost:8080/",
          "height": 412
        },
        "id": "h70_VoTbkg40",
        "outputId": "40781e4f-dd99-441a-d05c-c1da430e66d7"
      },
      "execution_count": null,
      "outputs": [
        {
          "output_type": "display_data",
          "data": {
            "text/plain": [
              "<Figure size 1200x400 with 1 Axes>"
            ],
            "image/png": "[encoded data removed]"
          },
          "metadata": {}
        }
      ]
    },
    {
      "cell_type": "code",
      "source": [
        "plt.subplot(1, 2, 2)\n",
        "plt.plot(range(epochs), train_accuracies, label='Treinamento')\n",
        "plt.plot(range(epochs), val_accuracies, label='Validação')\n",
        "plt.xlabel('Época')\n",
        "plt.ylabel('Acurácia')\n",
        "plt.legend()\n",
        "plt.title('Acurácia durante o Treinamento da Rede Neural')\n",
        "\n",
        "plt.tight_layout()\n",
        "plt.show()"
      ],
      "metadata": {
        "colab": {
          "base_uri": "https://localhost:8080/",
          "height": 487
        },
        "id": "L3OSisszkymT",
        "outputId": "6fcf4f3f-f11a-467c-8af5-37bb5ce9c4a8"
      },
      "execution_count": null,
      "outputs": [
        {
          "output_type": "display_data",
          "data": {
            "text/plain": [
              "<Figure size 640x480 with 1 Axes>"
            ],
            "image/png": "[encoded data removed]"
          },
          "metadata": {}
        }
      ]
    },
    {
      "cell_type": "markdown",
      "source": [
        "## Accuracy and matrix confusion"
      ],
      "metadata": {
        "id": "PCelNSDd_7lC"
      }
    },
    {
      "cell_type": "code",
      "source": [
        "def calculate_confusion_matrix(y_true, y_pred):\n",
        "    true_positive = true_negative = false_positive = false_negative = 0\n",
        "\n",
        "    for true, pred in zip(y_true, y_pred):\n",
        "        if true == 1 and pred == 1:\n",
        "            true_positive += 1\n",
        "        elif true == 0 and pred == 0:\n",
        "            true_negative += 1\n",
        "        elif true == 0 and pred == 1:\n",
        "            false_positive += 1\n",
        "        elif true == 1 and pred == 0:\n",
        "            false_negative += 1\n",
        "\n",
        "    return true_positive, true_negative, false_positive, false_negative\n",
        "\n",
        "y_pred = []\n",
        "for i in range(len(X_test)):\n",
        "    x = X_test[i]\n",
        "    activations = forward(x)\n",
        "    y_pred.append(activations[-1][0])\n",
        "\n",
        "y_pred = [(1 if p >= 0.5 else 0) for p in y_pred]\n",
        "Y_test = Y_test.flatten()\n",
        "\n",
        "true_positive, true_negative, false_positive, false_negative = calculate_confusion_matrix(Y_test, y_pred)\n",
        "\n",
        "print(\"Matriz de Confusão:\")\n",
        "print(f\"Verdadeiro Positivo (TP): {true_positive}\")\n",
        "print(f\"Verdadeiro Negativo (TN): {true_negative}\")\n",
        "print(f\"Falso Positivo (FP): {false_positive}\")\n",
        "print(f\"Falso Negativo (FN): {false_negative}\")"
      ],
      "metadata": {
        "id": "iovpqZuM3oDl",
        "colab": {
          "base_uri": "https://localhost:8080/"
        },
        "outputId": "15b7c2ea-8100-409c-e943-1c1fc277df7f"
      },
      "execution_count": null,
      "outputs": [
        {
          "output_type": "stream",
          "name": "stdout",
          "text": [
            "Matriz de Confusão:\n",
            "Verdadeiro Positivo (TP): 189\n",
            "Verdadeiro Negativo (TN): 0\n",
            "Falso Positivo (FP): 0\n",
            "Falso Negativo (FN): 7\n"
          ]
        }
      ]
    },
    {
      "cell_type": "code",
      "source": [
        "accuracy = (true_positive + true_negative) / (true_positive + true_negative + false_positive + false_negative)\n",
        "print(f'Acurácia do modelo: {accuracy * 100:.2f}%')"
      ],
      "metadata": {
        "colab": {
          "base_uri": "https://localhost:8080/"
        },
        "id": "fcvct_zhWtxZ",
        "outputId": "d8c9669c-37f1-4dc4-98a7-3b8b99405a08"
      },
      "execution_count": null,
      "outputs": [
        {
          "output_type": "stream",
          "name": "stdout",
          "text": [
            "Acurácia do modelo: 96.43%\n"
          ]
        }
      ]
    }
  ]
}